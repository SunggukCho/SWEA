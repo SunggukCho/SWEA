{
 "cells": [
  {
   "cell_type": "markdown",
   "metadata": {},
   "source": [
    "# #2070. 큰 놈, 작은 놈, 같은 놈"
   ]
  },
  {
   "cell_type": "code",
   "execution_count": 1,
   "metadata": {},
   "outputs": [
    {
     "name": "stdout",
     "output_type": "stream",
     "text": [
      "3\n",
      "3 8\n",
      "#1 <\n",
      "7 7\n",
      "#2 =\n",
      "369 123\n",
      "#3 >\n"
     ]
    }
   ],
   "source": [
    "T = int(input())\n",
    "\n",
    "for i in range(T):\n",
    "    numbers = list(map(int, input().split()))\n",
    "    \n",
    "    nums = [num for num in numbers]\n",
    "    def commandor(nums):\n",
    "        if nums[0] > nums[1]:\n",
    "            return \">\"\n",
    "        elif nums[0] < nums[1]:\n",
    "            return \"<\"\n",
    "        else:\n",
    "            return \"=\"\n",
    "   \n",
    "    print('#{} {}'.format(i+1, commandor(nums)))\n",
    "    i += 1"
   ]
  },
  {
   "cell_type": "code",
   "execution_count": null,
   "metadata": {},
   "outputs": [],
   "source": []
  }
 ],
 "metadata": {
  "kernelspec": {
   "display_name": "Python 3",
   "language": "python",
   "name": "python3"
  },
  "language_info": {
   "codemirror_mode": {
    "name": "ipython",
    "version": 3
   },
   "file_extension": ".py",
   "mimetype": "text/x-python",
   "name": "python",
   "nbconvert_exporter": "python",
   "pygments_lexer": "ipython3",
   "version": "3.7.7"
  }
 },
 "nbformat": 4,
 "nbformat_minor": 4
}
