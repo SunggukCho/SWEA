{
 "cells": [
  {
   "cell_type": "markdown",
   "metadata": {},
   "source": [
    "## 2. #2072. 홀수만 더하기"
   ]
  },
  {
   "cell_type": "code",
   "execution_count": 109,
   "metadata": {},
   "outputs": [
    {
     "name": "stdout",
     "output_type": "stream",
     "text": [
      "3\n"
     ]
    }
   ],
   "source": [
    "T = int(input())"
   ]
  },
  {
   "cell_type": "code",
   "execution_count": null,
   "metadata": {},
   "outputs": [],
   "source": [
    "for i in range(T):\n",
    "    numbers = list(map(int, input().split()))\n",
    "    \n",
    "    odd_nums = [num for num in numbers if num % 2 ==1]\n",
    "   \n",
    "    print('#{} {}'.format(i+1, sum(odd_nums)))\n",
    "    i += 1"
   ]
  },
  {
   "cell_type": "code",
   "execution_count": null,
   "metadata": {},
   "outputs": [],
   "source": []
  },
  {
   "cell_type": "code",
   "execution_count": null,
   "metadata": {},
   "outputs": [],
   "source": [
    "## 2. #2072. 홀수만 더하기\n",
    "\n",
    "T = int(input())\n",
    "\n",
    "for i in range(T):\n",
    "    numbers = list(map(int, input().split()))\n",
    "    \n",
    "    odd_nums = [num for num in numbers if num % 2 ==1]\n",
    "   \n",
    "    print('#{} {}'.format(i+1, sum(odd_nums)))\n",
    "    i += 1\n",
    "\n"
   ]
  },
  {
   "cell_type": "code",
   "execution_count": null,
   "metadata": {},
   "outputs": [],
   "source": []
  }
 ],
 "metadata": {
  "kernelspec": {
   "display_name": "Python 3",
   "language": "python",
   "name": "python3"
  },
  "language_info": {
   "codemirror_mode": {
    "name": "ipython",
    "version": 3
   },
   "file_extension": ".py",
   "mimetype": "text/x-python",
   "name": "python",
   "nbconvert_exporter": "python",
   "pygments_lexer": "ipython3",
   "version": "3.7.7"
  }
 },
 "nbformat": 4,
 "nbformat_minor": 4
}
