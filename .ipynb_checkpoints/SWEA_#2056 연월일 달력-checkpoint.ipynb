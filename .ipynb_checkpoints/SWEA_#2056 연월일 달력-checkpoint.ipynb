{
 "cells": [
  {
   "cell_type": "markdown",
   "metadata": {},
   "source": [
    "# SWEA_#2056 연월일 달력"
   ]
  },
  {
   "cell_type": "code",
   "execution_count": 19,
   "metadata": {},
   "outputs": [
    {
     "name": "stdout",
     "output_type": "stream",
     "text": [
      "1\n",
      "20150002\n",
      "#1 -1\n"
     ]
    }
   ],
   "source": [
    "T = int(input())\n",
    "for i in range(T):\n",
    "    numbers = str(input())\n",
    "    year = numbers[0:4]\n",
    "    month = numbers[4:6]\n",
    "    day = numbers[6:8]\n",
    "    \n",
    "    int_year = int(year)\n",
    "    int_month = int(month)\n",
    "    int_day = int(day)\n",
    "    \n",
    "    #31\n",
    "    month_31=[1, 3, 5, 7, 8, 10, 12]\n",
    "    #30\n",
    "    month_30=[4, 6, 9, 11]\n",
    "    #28\n",
    "    month_28=[2]\n",
    "    if int_month > 12:\n",
    "        print(f'#{i+1} -1')\n",
    "    if int_month in month_31:\n",
    "        if int_day <= 31:\n",
    "                print(f'#{i+1} {year}/{month}/{day}')\n",
    "        else:\n",
    "            print(-1)\n",
    "    elif int_month in month_30:\n",
    "        if int_day <= 30:\n",
    "                print(f'#{i+1} {year}/{month}/{day}')\n",
    "        else:\n",
    "            print(-1)\n",
    "    elif int_month in month_28:\n",
    "        if int_day <= 28:\n",
    "                print(f'#{i+1} {year}/{month}/{day}')\n",
    "        else:\n",
    "            print(-1)\n",
    "    else:\n",
    "        print(f'#{i+1} -1')\n",
    "    \n",
    "    i += 1"
   ]
  },
  {
   "cell_type": "code",
   "execution_count": null,
   "metadata": {},
   "outputs": [],
   "source": []
  }
 ],
 "metadata": {
  "kernelspec": {
   "display_name": "Python 3",
   "language": "python",
   "name": "python3"
  },
  "language_info": {
   "codemirror_mode": {
    "name": "ipython",
    "version": 3
   },
   "file_extension": ".py",
   "mimetype": "text/x-python",
   "name": "python",
   "nbconvert_exporter": "python",
   "pygments_lexer": "ipython3",
   "version": "3.7.7"
  }
 },
 "nbformat": 4,
 "nbformat_minor": 4
}
