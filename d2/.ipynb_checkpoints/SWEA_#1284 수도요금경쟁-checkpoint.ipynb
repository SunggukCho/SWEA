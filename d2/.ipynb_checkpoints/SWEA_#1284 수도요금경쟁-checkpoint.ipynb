{
 "cells": [
  {
   "cell_type": "markdown",
   "metadata": {},
   "source": [
    "# SWEA_#1284 수도요금경쟁"
   ]
  },
  {
   "cell_type": "code",
   "execution_count": 2,
   "metadata": {},
   "outputs": [
    {
     "name": "stdout",
     "output_type": "stream",
     "text": [
      "2\n",
      "9 100 20 3 10\n",
      "#1 90\n",
      "8 300 100 10 250\n",
      "#2 1800\n"
     ]
    }
   ],
   "source": [
    "T = int(input())\n",
    "for i in range(T):\n",
    "    numbers = list(map(int, input().split()))\n",
    "    \n",
    "    P = numbers[0]\n",
    "    Q = numbers[1]\n",
    "    R = numbers[2]\n",
    "    S = numbers[3]\n",
    "    W = numbers[4]\n",
    "    \n",
    "    a_comp = P * W\n",
    "    \n",
    "    if W <= R:\n",
    "        b_comp = Q\n",
    "    else:\n",
    "        b_comp = Q + (W - R)*S\n",
    "    \n",
    "    \n",
    "    if a_comp > b_comp:\n",
    "        print('#{} {}'.format(i+1, b_comp))\n",
    "    elif a_comp < b_comp:\n",
    "        print('#{} {}'.format(i+1, a_comp))\n",
    "    else:\n",
    "        print('#{} {}'.format(i+1, a_comp))\n",
    "    \n",
    "    i += 1"
   ]
  },
  {
   "cell_type": "code",
   "execution_count": null,
   "metadata": {},
   "outputs": [],
   "source": []
  }
 ],
 "metadata": {
  "kernelspec": {
   "display_name": "Python 3",
   "language": "python",
   "name": "python3"
  },
  "language_info": {
   "codemirror_mode": {
    "name": "ipython",
    "version": 3
   },
   "file_extension": ".py",
   "mimetype": "text/x-python",
   "name": "python",
   "nbconvert_exporter": "python",
   "pygments_lexer": "ipython3",
   "version": "3.7.7"
  }
 },
 "nbformat": 4,
 "nbformat_minor": 4
}
