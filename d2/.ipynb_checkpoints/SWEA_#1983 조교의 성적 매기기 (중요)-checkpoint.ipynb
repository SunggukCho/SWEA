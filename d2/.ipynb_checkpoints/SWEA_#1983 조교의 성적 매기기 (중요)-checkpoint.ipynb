{
 "cells": [
  {
   "cell_type": "code",
   "execution_count": null,
   "metadata": {},
   "outputs": [],
   "source": [
    "T = int(input())\n",
    "for t in range(1, T+1):\n",
    "    #10 2 로 들어올 때 N = 10, K = 2\n",
    "    N, K = map(int, input().split(' '))\n",
    "    students = []\n",
    "    grade = ['A+', 'A0', 'A-', 'B+', 'B0', 'B-', 'C+', 'C0', 'C-', 'D0']\n",
    "    #students 리스트에 학생들의 종합점수를 입력\n",
    "    for n in range(N):\n",
    "        midterm, final, assignment = map(int, input().split())\n",
    "        sum_student = midterm * 0.35 + final * 0.45 + assignment * 0.20\n",
    "        students.append(sum_student)\n",
    "\n",
    "    k_score = students[K-1]\n",
    "    students.sort(reverse=True)\n",
    "    \n",
    "    \"\"\"\n",
    "    성적의 단위가 10개이므로, 상위 10%는 A+, 20%는 A0와 같이 나타나야 한다.\n",
    "    rank_of_ten은 그것을 위한 변수이다. score값의 상위 %를 찾고 그 index를\n",
    "    이용하려 한다.\n",
    "    찾고자 하는 score는 sotring된 students리스트에서 k_score를 인덱스로 가지고 \n",
    "    있는 값이다. 그 값을 찾아 N/10으로 나눈 몫을 찾는다. \n",
    "    최종적으로 그 몫을 리스트 인덱스 값으로 해서 grade[rank_of_ten]을 하여 알맞은\n",
    "    성적을 넣어준다.\n",
    "    \n",
    "    \"\"\"\n",
    "    rank_of_ten = students.index(k_score) // (N//10)  # 핵심 코드\n",
    "    k_grade = grade[rank_of_ten]\n",
    "\n",
    "    print('#{} {}'.format(t, k_grade))  \n"
   ]
  },
  {
   "cell_type": "code",
   "execution_count": null,
   "metadata": {},
   "outputs": [],
   "source": []
  }
 ],
 "metadata": {
  "kernelspec": {
   "display_name": "Python 3",
   "language": "python",
   "name": "python3"
  },
  "language_info": {
   "codemirror_mode": {
    "name": "ipython",
    "version": 3
   },
   "file_extension": ".py",
   "mimetype": "text/x-python",
   "name": "python",
   "nbconvert_exporter": "python",
   "pygments_lexer": "ipython3",
   "version": "3.7.7"
  }
 },
 "nbformat": 4,
 "nbformat_minor": 4
}
