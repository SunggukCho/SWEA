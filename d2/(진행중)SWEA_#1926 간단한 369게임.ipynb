{
 "cells": [
  {
   "cell_type": "markdown",
   "metadata": {},
   "source": [
    "# SWEA_#1926 간단한 369게임"
   ]
  },
  {
   "cell_type": "code",
   "execution_count": 18,
   "metadata": {},
   "outputs": [
    {
     "name": "stdout",
     "output_type": "stream",
     "text": [
      "33\n",
      "1\n",
      "2\n",
      "-\n",
      "4\n",
      "5\n",
      "-\n",
      "7\n",
      "8\n",
      "-\n",
      "10\n",
      "11\n",
      "12\n",
      "1-\n",
      "14\n",
      "15\n",
      "1-\n",
      "17\n",
      "18\n",
      "1-\n",
      "20\n",
      "21\n",
      "22\n",
      "2-\n",
      "24\n",
      "25\n",
      "2-\n",
      "27\n",
      "28\n",
      "2-\n",
      "-0\n",
      "-1\n",
      "-2\n",
      "--\n"
     ]
    }
   ],
   "source": [
    "T = int(input())\n",
    "for i in range(1, T+1):\n",
    "    str_i = str(i)\n",
    "    str_i = str_i.replace('3', '-')\n",
    "    str_i = str_i.replace('6', '-')\n",
    "    str_i = str_i.replace('9', '-')\n",
    "    print(str_i)"
   ]
  },
  {
   "cell_type": "code",
   "execution_count": null,
   "metadata": {},
   "outputs": [],
   "source": []
  }
 ],
 "metadata": {
  "kernelspec": {
   "display_name": "Python 3",
   "language": "python",
   "name": "python3"
  },
  "language_info": {
   "codemirror_mode": {
    "name": "ipython",
    "version": 3
   },
   "file_extension": ".py",
   "mimetype": "text/x-python",
   "name": "python",
   "nbconvert_exporter": "python",
   "pygments_lexer": "ipython3",
   "version": "3.7.7"
  }
 },
 "nbformat": 4,
 "nbformat_minor": 4
}
